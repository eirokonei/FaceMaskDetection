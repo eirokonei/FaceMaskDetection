{
 "cells": [
  {
   "cell_type": "code",
   "execution_count": 1,
   "metadata": {},
   "outputs": [],
   "source": [
    "import matplotlib.pyplot as plt\n",
    "import tensorflow as tf\n",
    "import glob\n",
    "import cv2\n",
    "import os"
   ]
  },
  {
   "cell_type": "code",
   "execution_count": 25,
   "metadata": {},
   "outputs": [],
   "source": [
    "image_path = glob.glob('E:/Projects/Python_Projects/FaceMask/Face_Mask_Dataset/validation/WithMask/*.png')"
   ]
  },
  {
   "cell_type": "code",
   "execution_count": 26,
   "metadata": {},
   "outputs": [],
   "source": [
    "\n",
    "i = 0\n",
    "\n",
    "for image in image_path:\n",
    "    img = cv2.imread(image)\n",
    "    grayscale_image = cv2.cvtColor(img, cv2.COLOR_BGR2GRAY)\n",
    "    \n",
    "    roi_gray = cv2.resize(grayscale_image,(48,48),interpolation=cv2.INTER_AREA)\n",
    "    cv2.imwrite('E:/Projects/Python_Projects/FaceMask/ProcessedData/maskgrayscale%02i.png' %i, roi_gray)\n",
    "    i+=1\n",
    "        "
   ]
  },
  {
   "cell_type": "code",
   "execution_count": 28,
   "metadata": {},
   "outputs": [],
   "source": [
    "image_path_WithoutMask = glob.glob('E:/Projects/Python_Projects/FaceMask/Face_Mask_Dataset/validation/WithoutMask/*.png')"
   ]
  },
  {
   "cell_type": "code",
   "execution_count": 29,
   "metadata": {},
   "outputs": [],
   "source": [
    "\n",
    "i = 0\n",
    "\n",
    "for image in image_path_WithoutMask:\n",
    "    img = cv2.imread(image)\n",
    "    grayscale_image = cv2.cvtColor(img, cv2.COLOR_BGR2GRAY)\n",
    "    roi_gray = cv2.resize(grayscale_image,(48,48),interpolation=cv2.INTER_AREA)\n",
    "    cv2.imwrite('E:/Projects/Python_Projects/FaceMask/ProcessedData/WithoutValidMaskgray%i.jpg' %i, roi_gray)\n",
    "    i+=1"
   ]
  },
  {
   "cell_type": "code",
   "execution_count": null,
   "metadata": {},
   "outputs": [],
   "source": []
  }
 ],
 "metadata": {
  "kernelspec": {
   "display_name": "Python 3",
   "language": "python",
   "name": "python3"
  },
  "language_info": {
   "codemirror_mode": {
    "name": "ipython",
    "version": 3
   },
   "file_extension": ".py",
   "mimetype": "text/x-python",
   "name": "python",
   "nbconvert_exporter": "python",
   "pygments_lexer": "ipython3",
   "version": "3.8.5"
  }
 },
 "nbformat": 4,
 "nbformat_minor": 4
}
